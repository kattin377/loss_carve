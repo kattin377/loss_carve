{
 "cells": [
  {
   "cell_type": "code",
   "execution_count": null,
   "id": "906cd05c",
   "metadata": {},
   "outputs": [],
   "source": [
    "loss函数的表现形式：\n",
    "\n",
    "目标得到good-fit 模型"
   ]
  },
  {
   "cell_type": "code",
   "execution_count": 2,
   "id": "4a188025",
   "metadata": {},
   "outputs": [],
   "source": [
    "# 环境配置\n",
    "# conda create -n tf_env python=3.10\n",
    "# conda activate tf_env\n",
    "# pip install tensorflow==2.13\n",
    "# pip install \"pyOpenSSL<25\"\n"
   ]
  },
  {
   "cell_type": "code",
   "execution_count": null,
   "id": "e9ad6a3c",
   "metadata": {},
   "outputs": [],
   "source": [
    "# -*- coding: utf-8 -*-\n",
    "from tensorflow.keras.models import Model  # type: ignore\n",
    "from tensorflow.keras.preprocessing import sequence # type: ignore\n",
    "from tensorflow.keras.layers import Input # type: ignore\n",
    "from tensorflow.keras.layers import Dense, Activation# type: ignore\n",
    "from tensorflow.keras.layers import Embedding # type: ignore\n",
    "from tensorflow.keras.layers import Conv1D, GlobalMaxPooling1D # type: ignore\n",
    "from tensorflow.keras.datasets import imdb # type: ignore\n",
    "from tensorflow.keras import optimizers # type: ignore\n",
    "import matplotlib\n",
    "matplotlib.use('agg')\n",
    "import matplotlib.pyplot as plt"
   ]
  },
  {
   "cell_type": "code",
   "execution_count": 4,
   "id": "52fca3b8",
   "metadata": {},
   "outputs": [],
   "source": [
    "# set parameters:\n",
    "batch_size = 32\n",
    "embedding_dims = 200\n",
    "filters = 250\n",
    "kernel_size = 3"
   ]
  },
  {
   "cell_type": "code",
   "execution_count": 5,
   "id": "8ecb88d5",
   "metadata": {},
   "outputs": [],
   "source": [
    "# load the dataset but only keep the top n words, zero the rest\n",
    "top_words = 5000\n",
    "(x_train, y_train), (x_test, y_test) = imdb.load_data(num_words=top_words)\n",
    "# pad dataset to a maximum review length in words\n",
    "max_words = 500\n",
    "x_train = sequence.pad_sequences(x_train, maxlen=max_words)\n",
    "x_test = sequence.pad_sequences(x_test, maxlen=max_words)\n"
   ]
  },
  {
   "cell_type": "code",
   "execution_count": 7,
   "id": "6c2f0142",
   "metadata": {},
   "outputs": [],
   "source": [
    "# Build model\n",
    "sentence = Input(batch_shape=(None, max_words), dtype='int32', name='sentence')\n",
    "embedding_layer = Embedding(top_words, embedding_dims, input_length=max_words)\n",
    "sent_embed = embedding_layer(sentence)\n",
    "conv_layer = Conv1D(filters, kernel_size, padding='valid', activation='relu')\n",
    "sent_conv = conv_layer(sent_embed)\n",
    "sent_pooling = GlobalMaxPooling1D()(sent_conv)\n",
    "sent_repre = Dense(250)(sent_pooling)\n",
    "sent_repre = Activation('relu')(sent_repre)\n",
    "sent_repre = Dense(1)(sent_repre)\n",
    "pred = Activation('sigmoid')(sent_repre)\n",
    "model = Model(inputs=sentence, outputs=pred)"
   ]
  },
  {
   "cell_type": "code",
   "execution_count": 8,
   "id": "e2b2fd5e",
   "metadata": {},
   "outputs": [],
   "source": [
    "#underfit\n",
    "epochs = 5\n",
    "sgd = optimizers.SGD(learning_rate=0.01)\n",
    "model.compile(loss='binary_crossentropy', optimizer=sgd, metrics=['accuracy'])"
   ]
  },
  {
   "cell_type": "code",
   "execution_count": 9,
   "id": "22e7c6c4",
   "metadata": {},
   "outputs": [
    {
     "name": "stdout",
     "output_type": "stream",
     "text": [
      "Epoch 1/5\n",
      "782/782 [==============================] - 64s 82ms/step - loss: 0.6929 - accuracy: 0.5108 - val_loss: 0.6923 - val_accuracy: 0.5209\n",
      "Epoch 2/5\n",
      "782/782 [==============================] - 64s 82ms/step - loss: 0.6919 - accuracy: 0.5418 - val_loss: 0.6913 - val_accuracy: 0.5455\n",
      "Epoch 3/5\n",
      "782/782 [==============================] - 62s 80ms/step - loss: 0.6905 - accuracy: 0.5544 - val_loss: 0.6900 - val_accuracy: 0.6024\n",
      "Epoch 4/5\n",
      "782/782 [==============================] - 65s 83ms/step - loss: 0.6890 - accuracy: 0.5988 - val_loss: 0.6883 - val_accuracy: 0.6246\n",
      "Epoch 5/5\n",
      "782/782 [==============================] - 66s 84ms/step - loss: 0.6865 - accuracy: 0.6321 - val_loss: 0.6854 - val_accuracy: 0.6630\n",
      "Accuracy: 66.30%\n"
     ]
    }
   ],
   "source": [
    "# fit the model\n",
    "history = model.fit(x_train, y_train, batch_size=batch_size,\n",
    "          epochs=epochs, verbose=1, validation_data=(x_test, y_test))\n",
    "scores = model.evaluate(x_test, y_test, verbose=0)\n",
    "print(\"Accuracy: %.2f%%\" % (scores[1]*100))"
   ]
  },
  {
   "cell_type": "code",
   "execution_count": 10,
   "id": "cebafc02",
   "metadata": {},
   "outputs": [],
   "source": [
    "loss = history.history['loss']\n",
    "val_loss = history.history['val_loss']\n",
    "plt.plot(loss, label='loss')\n",
    "plt.plot(val_loss, label='val_loss')\n",
    "plt.title('model loss')\n",
    "plt.ylabel('loss')\n",
    "plt.xlabel('epoch')\n",
    "plt.legend(['train', 'valid'], loc='upper left')\n",
    "plt.savefig('./loss.png')\n",
    "# plt.show ()\n"
   ]
  }
 ],
 "metadata": {
  "kernelspec": {
   "display_name": "tf_env",
   "language": "python",
   "name": "python3"
  },
  "language_info": {
   "codemirror_mode": {
    "name": "ipython",
    "version": 3
   },
   "file_extension": ".py",
   "mimetype": "text/x-python",
   "name": "python",
   "nbconvert_exporter": "python",
   "pygments_lexer": "ipython3",
   "version": "3.10.16"
  }
 },
 "nbformat": 4,
 "nbformat_minor": 5
}
